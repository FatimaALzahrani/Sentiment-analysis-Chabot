{
 "cells": [
  {
   "cell_type": "code",
   "execution_count": 1,
   "id": "b6ef6681-572d-4de5-ab43-2ce069c31406",
   "metadata": {},
   "outputs": [],
   "source": [
    "import nltk\n",
    "from nltk.chat.util import Chat, reflections"
   ]
  },
  {
   "cell_type": "code",
   "execution_count": 12,
   "id": "beb838cb-0487-4e48-9b02-ac078385574c",
   "metadata": {},
   "outputs": [],
   "source": [
    "# قائمة المشاعر والكلمات المرتبطة بها\n",
    "emotions = {\n",
    "    'سعيد': ['جميل','حلو','نجاح','تخرج','مبسوط','فرحان','سعيد', 'مبتهج', 'مرتاح'],\n",
    "    'حزين': ['كذب','مهموم','نادم','تحطم','موت','مات','حزين', 'مكسور القلب', 'مكروب'],\n",
    "    'غاضب': ['بغضاء','كره','مستاء','ساخط','عدو','ضرب','غاضب', 'زعلان', 'مستاء'],\n",
    "    'متحمس': ['متحمس','ترقب','فوز','سأفوز','تحدي','مستعد','متفائل','مشوق', 'متلهف'],\n",
    "    'خائف': ['خائف','رهبة','رعب' ,'فزع','قلق','هلع','خشية','مرعوب', 'خوفان'],\n",
    "    'مكتئب': ['جامعة','اختبار','مشروع' ,'اكتئاب','ضغط','البكاء','ضعف','فشل', 'عزله'],\n",
    "}"
   ]
  },
  {
   "cell_type": "code",
   "execution_count": 13,
   "id": "93cea809-a51b-4a39-9d0b-4d51888acaca",
   "metadata": {},
   "outputs": [],
   "source": [
    "conversations = []\n",
    "for emotion, words in emotions.items():\n",
    "    patterns = [r'\\b{}\\b'.format(word) for word in words]\n",
    "    responses = [\"أنا أيضًا {}!\".format(emotion), \"لديك سبب للشعور بـ{}؟\".format(emotion)]\n",
    "    conversation = [(pattern, response) for pattern in patterns for response in responses]\n",
    "    conversations.extend(conversation)"
   ]
  },
  {
   "cell_type": "code",
   "execution_count": 14,
   "id": "b4636564-1b32-428d-8b91-e06deecc7b48",
   "metadata": {},
   "outputs": [],
   "source": [
    "conversations.extend([\n",
    "    (\n",
    "        r\"سلام|السلام|مرحبًا|مرحبا|أهلا\",\n",
    "        [\"مرحبًا، كيف يمكنني مساعدتك؟\", \"أهلاً، ما الذي تحتاجه؟\"]\n",
    "    ),\n",
    "    (\n",
    "        r\"إلى اللقاء|مع السلامه|مع السلامة\",\n",
    "        [\"أتمنى لك يومًا سعيدًا!\", \"إلى اللقاء. تفضل بطلبك إذا احتجت مساعدة أخرى.\"]\n",
    "    ),\n",
    "    (\n",
    "         r\"اسمي (.*)\" ,\n",
    "         [\"مرحبًا %1، كيف حالك اليوم؟\"]\n",
    "    ),\n",
    "    (\n",
    "         r\"ما اسمك؟\",\n",
    "         [\"أنا روبوت تحليل المشاعر تم إنشاؤه بواسطة فاطمة الزهراني. !\"]\n",
    "    ),\n",
    "    (\n",
    "         r\"كيف حالك؟\",\n",
    "         [\"أنا بخير، ماذا عنك؟\"]\n",
    "    ),\n",
    "    (\n",
    "         r\"آسف (.*)\",\n",
    "         [\"لا بأس\"]\n",
    "    ),\n",
    "    (\n",
    "         r\"أنا بخير\",\n",
    "         [\"من الرائع سماع ذلك، كيف يمكنني مساعدتك؟\"]\n",
    "    ),\n",
    "    (\n",
    "        r\"أنا (.*) أفعل الخير\",\n",
    "         [\"سررت بسماع ذلك\" , \"كيف يمكنني مساعدتك؟ :)\"]\n",
    "    ),\n",
    "    (\n",
    "         r\"كم عمرك؟\",\n",
    "         [\"أنا برنامج كمبيوتر، بجدية هل تسألني هذا؟\"]\n",
    "    ),\n",
    "    (\n",
    "         r\"تم إنشاؤك؟ (.*)\",\n",
    "         [\"فاطمة أنشأتني باستخدام مكتبة Python NLTK\"]\n",
    "    ),\n",
    "    (\n",
    "         r\"(.*) (الموقع | المدينة)؟\",\n",
    "         [\"الباحة\"]\n",
    "    ),\n",
    "    (\n",
    "        r\"ما حالة الطقس في (.*)\" ,\n",
    "         [\"الطقس في %1 رائع كالعادة\" , \"حار جدًا هنا في %1\" , \"بارد جدًا هنا في %1\" ,\"لم أسمع حتى عن %1\"]\n",
    "    ),\n",
    "    (\n",
    "         r\"أنا أعمل في (.*)\",\n",
    "         [\"%1 شركة رائعة، لقد سمعت عنها. لكنهم يواجهون خسارة كبيرة هذه الأيام.\"]\n",
    "    ),\n",
    "    (\n",
    "         r\"كيف (.*) الصحة (.*)\",\n",
    "         [\"أنا برنامج كمبيوتر، لذا فأنا دائمًا بصحة جيدة\"]\n",
    "    ),\n",
    "    (\n",
    "         r\"أنا أبحث عن أدلة ودورات عبر الإنترنت لتعلم علوم البيانات، هل يمكنك اقتراح ذلك؟\" ,\n",
    "         [\"يحتوي Crazy_Tech على العديد من المقالات الرائعة مع شرح كل خطوة بالإضافة إلى التعليمات البرمجية، يمكنك استكشافها\"]\n",
    "    ),\n",
    "    (\n",
    "         r\"إنهاء\",\n",
    "         [\"اعتني بنفسك. أراك قريبًا :)\"]\n",
    "    ),\n",
    "    (\n",
    "        r\".*\",\n",
    "        [\"عذرًا، لم أتمكن من فهم ذلك. يمكنك إعادة المحاولة؟\"]\n",
    "    ),\n",
    "])\n"
   ]
  },
  {
   "cell_type": "code",
   "execution_count": 15,
   "id": "4a76db50-51ec-4bf0-b053-b78392d5c29e",
   "metadata": {},
   "outputs": [],
   "source": [
    "# إنشاء الشات بوت\n",
    "chatbot = Chat(conversations, reflections)"
   ]
  },
  {
   "cell_type": "code",
   "execution_count": 16,
   "id": "9a9bb60b-2f0d-4f33-b6f2-feaf4b47b295",
   "metadata": {},
   "outputs": [],
   "source": [
    "# تحليل المشاعر\n",
    "def analyze_emotion(sentence):\n",
    "    tokens = nltk.word_tokenize(sentence)\n",
    "    emotion_scores = {emotion: 0 for emotion in emotions}\n",
    "    \n",
    "    for token in tokens:\n",
    "        for emotion, words in emotions.items():\n",
    "            if token in words:\n",
    "                emotion_scores[emotion] += 1\n",
    "    \n",
    "    max_emotion = max(emotion_scores, key=emotion_scores.get)\n",
    "    return max_emotion\n"
   ]
  },
  {
   "cell_type": "code",
   "execution_count": 19,
   "id": "06bbb9a3-27ca-4ec9-b72c-0d1c616b8f9d",
   "metadata": {},
   "outputs": [],
   "source": [
    "# تشغيل الشات بوت\n",
    "def run_chatbot():\n",
    "    print(\"السلام عليكم ورحمة الله , أنا بوت لتحليل المشاعر. اكتب 'مع السلامة' للخروج\")\n",
    "    while True:\n",
    "        user_input = input(\"أكتب ماذا تحس الآن لأقوم بتحليل مشاعرك: \")\n",
    "        if user_input == \"مع السلامة\" or user_input == \"مع السلامه\" :\n",
    "            print(\" :) أتمنى لك يومًا سعيدًا مع السلامة\")\n",
    "            break\n",
    "        emotion = analyze_emotion(user_input)\n",
    "        chatbot_response = chatbot.respond(user_input)\n",
    "        print(\"مشاعرك: {}\".format(emotion))   \n",
    "        if chatbot_response!='عذرًا، لم أتمكن من فهم ذلك. يمكنك إعادة المحاولة؟':\n",
    "            print(\"الرد: {}\".format(chatbot_response))\n",
    "        if emotion==\"خائف\":\n",
    "            forYou=\"فَلَا تَخَافُوهُمْ وَخَافُونِ إِن كُنتُم مُّؤْمِنِينَ\"\n",
    "        elif emotion==\"غاضب\":\n",
    "            forYou=\"فَاصْبِرْ لِحُكْمِ رَبِّكَ وَلَا تَكُن كَصَاحِبِ الْحُوتِ إِذْ نَادَىٰ وَهُوَ مَكْظُومٌ\"\n",
    "        elif emotion==\"حزين\":\n",
    "            forYou=\"وَلَا يَحْزُنْكَ قَوْلُهُمْ إِنَّ الْعِزَّةَ لِلَّهِ جَمِيعًا هُوَ السَّمِيعُ الْعَلِيمُ\"\n",
    "        elif emotion==\"متحمس\":\n",
    "            forYou=\"يسْتَبْشِرُونَ بِنِعْمَةٍ مِنَ اللَّهِ وَفَضْلٍ وَأَنَّ اللَّهَ لَا يُضِيعُ أَجْرَ الْمُؤْمِنِينَ\"\n",
    "        elif emotion==\"مكتئب\":\n",
    "            forYou=\" الّذِينَ آمَنُواْ وَتَطْمَئِنّ قُلُوبُهُمْ بِذِكْرِ اللّهِ أَلاَ بِذِكْرِ اللّهِ تَطْمَئِنّ الْقُلُوبُ\"\n",
    "        else:\n",
    "            forYou=\"\"\n",
    "            # forYou=\"قُلْ بِفَضْلِ اللَّهِ وَبِرَحْمَتِهِ فَبِذَلِكَ فَلْيَفْرَحُوا هُوَ خَيْرٌ مِمَّا يَجْمَعُونَ\"\n",
    "        print(forYou)"
   ]
  },
  {
   "cell_type": "code",
   "execution_count": null,
   "id": "6a412160-0bca-4ebb-8c41-41c484ed1643",
   "metadata": {},
   "outputs": [
    {
     "name": "stdout",
     "output_type": "stream",
     "text": [
      "السلام عليكم ورحمة الله , أنا بوت لتحليل المشاعر. اكتب 'مع السلامة' للخروج\n"
     ]
    },
    {
     "name": "stdin",
     "output_type": "stream",
     "text": [
      "أكتب ماذا تحس الآن لأقوم بتحليل مشاعرك:  أنا الآن مضغوطه جدا واريد البكاء بشدة , فلدي الكثير من المهام المتراكمة كما أني شايله هم مناقشات المشاريع والاختبارات :(\n"
     ]
    },
    {
     "name": "stdout",
     "output_type": "stream",
     "text": [
      "مشاعرك: مكتئب\n",
      " الّذِينَ آمَنُواْ وَتَطْمَئِنّ قُلُوبُهُمْ بِذِكْرِ اللّهِ أَلاَ بِذِكْرِ اللّهِ تَطْمَئِنّ الْقُلُوبُ\n"
     ]
    },
    {
     "name": "stdin",
     "output_type": "stream",
     "text": [
      "أكتب ماذا تحس الآن لأقوم بتحليل مشاعرك:  أنا سعيدة جدا لأني سوف اتخرح قريبا , فلم يتبقى على تخرجي سوا ترمين وبعدها لن اختبر \n"
     ]
    },
    {
     "name": "stdout",
     "output_type": "stream",
     "text": [
      "مشاعرك: سعيد\n",
      "\n"
     ]
    },
    {
     "name": "stdin",
     "output_type": "stream",
     "text": [
      "أكتب ماذا تحس الآن لأقوم بتحليل مشاعرك:  أنا أشعر بأني نادم حيث أني أقوم بأشياء غبية واثق بناس لا يستحقون الثقه ولا اتوب من ذلك\n"
     ]
    },
    {
     "name": "stdout",
     "output_type": "stream",
     "text": [
      "مشاعرك: حزين\n",
      "وَلَا يَحْزُنْكَ قَوْلُهُمْ إِنَّ الْعِزَّةَ لِلَّهِ جَمِيعًا هُوَ السَّمِيعُ الْعَلِيمُ\n"
     ]
    },
    {
     "name": "stdin",
     "output_type": "stream",
     "text": [
      "أكتب ماذا تحس الآن لأقوم بتحليل مشاعرك:  أنا مستاء من أختي حيث أنها لا تديد تنظيف البيت ويجب أن أقوم أنا بكل شي لمجرد أني أكبر منها ببعض السنوات\n"
     ]
    },
    {
     "name": "stdout",
     "output_type": "stream",
     "text": [
      "مشاعرك: غاضب\n",
      "فَاصْبِرْ لِحُكْمِ رَبِّكَ وَلَا تَكُن كَصَاحِبِ الْحُوتِ إِذْ نَادَىٰ وَهُوَ مَكْظُومٌ\n"
     ]
    },
    {
     "name": "stdin",
     "output_type": "stream",
     "text": [
      "أكتب ماذا تحس الآن لأقوم بتحليل مشاعرك:  أنا متلهف للإنتهاء من هذا الترم المتعب جدًا \n"
     ]
    },
    {
     "name": "stdout",
     "output_type": "stream",
     "text": [
      "مشاعرك: متحمس\n",
      "يسْتَبْشِرُونَ بِنِعْمَةٍ مِنَ اللَّهِ وَفَضْلٍ وَأَنَّ اللَّهَ لَا يُضِيعُ أَجْرَ الْمُؤْمِنِينَ\n"
     ]
    },
    {
     "name": "stdin",
     "output_type": "stream",
     "text": [
      "أكتب ماذا تحس الآن لأقوم بتحليل مشاعرك:  أنا هلع من أن لا أستطيع التحدث بالمناقشات\n"
     ]
    },
    {
     "name": "stdout",
     "output_type": "stream",
     "text": [
      "مشاعرك: خائف\n",
      "فَلَا تَخَافُوهُمْ وَخَافُونِ إِن كُنتُم مُّؤْمِنِينَ\n"
     ]
    }
   ],
   "source": [
    "# تشغيل الشات بوت\n",
    "run_chatbot()"
   ]
  },
  {
   "cell_type": "code",
   "execution_count": null,
   "id": "cae89ac9-e614-43b5-baa7-f5e5453bc98e",
   "metadata": {},
   "outputs": [],
   "source": []
  },
  {
   "cell_type": "code",
   "execution_count": null,
   "id": "b3a2491e-f182-47d5-af90-a4be619fa8e4",
   "metadata": {},
   "outputs": [],
   "source": []
  },
  {
   "cell_type": "code",
   "execution_count": null,
   "id": "a1eb663e-cb33-4965-839b-c939b020f074",
   "metadata": {},
   "outputs": [],
   "source": []
  },
  {
   "cell_type": "code",
   "execution_count": null,
   "id": "2b64e54d-dc54-4e87-91f6-9a3bac8dda22",
   "metadata": {},
   "outputs": [],
   "source": []
  },
  {
   "cell_type": "code",
   "execution_count": null,
   "id": "309d6f90-21f9-49b6-9578-aa4cee4331d8",
   "metadata": {},
   "outputs": [],
   "source": []
  }
 ],
 "metadata": {
  "kernelspec": {
   "display_name": "Python 3 (ipykernel)",
   "language": "python",
   "name": "python3"
  },
  "language_info": {
   "codemirror_mode": {
    "name": "ipython",
    "version": 3
   },
   "file_extension": ".py",
   "mimetype": "text/x-python",
   "name": "python",
   "nbconvert_exporter": "python",
   "pygments_lexer": "ipython3",
   "version": "3.10.9"
  }
 },
 "nbformat": 4,
 "nbformat_minor": 5
}
